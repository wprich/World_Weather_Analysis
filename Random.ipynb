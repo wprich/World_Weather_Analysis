{
 "cells": [
  {
   "cell_type": "code",
   "execution_count": 23,
   "id": "ef7cab90",
   "metadata": {},
   "outputs": [],
   "source": [
    "import random\n",
    "import numpy as np\n",
    "import timeit"
   ]
  },
  {
   "cell_type": "code",
   "execution_count": 3,
   "id": "0368df75",
   "metadata": {},
   "outputs": [
    {
     "data": {
      "text/plain": [
       "0.23457283237141036"
      ]
     },
     "execution_count": 3,
     "metadata": {},
     "output_type": "execute_result"
    }
   ],
   "source": [
    "#Generates a random number between zero and one\n",
    "random.random()"
   ]
  },
  {
   "cell_type": "code",
   "execution_count": 6,
   "id": "decb08ac",
   "metadata": {},
   "outputs": [
    {
     "data": {
      "text/plain": [
       "5"
      ]
     },
     "execution_count": 6,
     "metadata": {},
     "output_type": "execute_result"
    }
   ],
   "source": [
    "#Generates a random integer between given arguments, can be equal to arguments\n",
    "random.randint(-10,10)"
   ]
  },
  {
   "cell_type": "code",
   "execution_count": 8,
   "id": "75edf224",
   "metadata": {},
   "outputs": [
    {
     "data": {
      "text/plain": [
       "-7"
      ]
     },
     "execution_count": 8,
     "metadata": {},
     "output_type": "execute_result"
    }
   ],
   "source": [
    "#Generates a random integer but only from the steps, 3rd argument, from the bottom to top arguments\n",
    "random.randrange(-9,9,2)"
   ]
  },
  {
   "cell_type": "code",
   "execution_count": 9,
   "id": "b75a00ab",
   "metadata": {},
   "outputs": [
    {
     "data": {
      "text/plain": [
       "0.5137705446953511"
      ]
     },
     "execution_count": 9,
     "metadata": {},
     "output_type": "execute_result"
    }
   ],
   "source": [
    "#Generates a random number from the range that will not be an integer\n",
    "random.uniform(-10,10)"
   ]
  },
  {
   "cell_type": "code",
   "execution_count": 11,
   "id": "d312992b",
   "metadata": {},
   "outputs": [
    {
     "data": {
      "text/plain": [
       "-49.51405152200247"
      ]
     },
     "execution_count": 11,
     "metadata": {},
     "output_type": "execute_result"
    }
   ],
   "source": [
    "random_number = random.randint(-90, 89) + random.random()\n",
    "random_number"
   ]
  },
  {
   "cell_type": "code",
   "execution_count": 13,
   "id": "74b4b8a7",
   "metadata": {},
   "outputs": [
    {
     "data": {
      "text/plain": [
       "[-4.894959360270153,\n",
       " -63.236744798244096,\n",
       " -70.45009399085544,\n",
       " -75.3908286386296,\n",
       " 69.89692238997465,\n",
       " -0.32777781381116,\n",
       " -8.23361141858583,\n",
       " -30.432971957559857,\n",
       " 45.77818026390438,\n",
       " -24.109751671915344]"
      ]
     },
     "execution_count": 13,
     "metadata": {},
     "output_type": "execute_result"
    }
   ],
   "source": [
    "x = 1\n",
    "latitudes = []\n",
    "while x < 11:\n",
    "    random_lat = random.randint(-90, 89) + random.random()\n",
    "    latitudes.append(random_lat)\n",
    "    x += 1\n",
    "    \n",
    "latitudes"
   ]
  },
  {
   "cell_type": "code",
   "execution_count": 17,
   "id": "142080fa",
   "metadata": {},
   "outputs": [
    {
     "data": {
      "text/plain": [
       "-86"
      ]
     },
     "execution_count": 17,
     "metadata": {},
     "output_type": "execute_result"
    }
   ],
   "source": [
    "random.randrange(-90, 90, 1)"
   ]
  },
  {
   "cell_type": "code",
   "execution_count": 16,
   "id": "0b390a2b",
   "metadata": {},
   "outputs": [
    {
     "data": {
      "text/plain": [
       "-12"
      ]
     },
     "execution_count": 16,
     "metadata": {},
     "output_type": "execute_result"
    }
   ],
   "source": [
    "random.randrange(-90, 90, 3)"
   ]
  },
  {
   "cell_type": "code",
   "execution_count": 19,
   "id": "5c0db31f",
   "metadata": {},
   "outputs": [
    {
     "data": {
      "text/plain": [
       "42.06670884450972"
      ]
     },
     "execution_count": 19,
     "metadata": {},
     "output_type": "execute_result"
    }
   ],
   "source": [
    "random.uniform(-90, 90)"
   ]
  },
  {
   "cell_type": "code",
   "execution_count": 21,
   "id": "55e19cd4",
   "metadata": {},
   "outputs": [
    {
     "data": {
      "text/plain": [
       "28.14022942612685"
      ]
     },
     "execution_count": 21,
     "metadata": {},
     "output_type": "execute_result"
    }
   ],
   "source": [
    "np.random.uniform(-90.000, 90.000)"
   ]
  },
  {
   "cell_type": "code",
   "execution_count": 22,
   "id": "0b690bc2",
   "metadata": {},
   "outputs": [
    {
     "data": {
      "text/plain": [
       "array([ 82.55982437,  49.48398496, -16.65317666, -85.80759204,\n",
       "        38.402571  ,  -5.09389845,  -2.59911916, -73.50091342,\n",
       "        69.52713999,  59.12768328,  -6.25623437,  39.96490072,\n",
       "        21.34040036, -34.11863409, -29.27726913,  49.79177546,\n",
       "        11.31524984,  70.8497151 ,  62.36161377, -17.67178961,\n",
       "         7.17043169, -84.31585672,  23.4588394 , -34.83414888,\n",
       "        -8.73510346, -57.14579262,   9.98879655,  77.8832541 ,\n",
       "        21.93092386, -26.84615767,  18.69719933,  82.14951476,\n",
       "       -38.69037996,  71.59002522, -48.78593294,  14.08917819,\n",
       "         0.18641536, -47.85714451,  50.88221861,  11.45151919,\n",
       "        14.70657026, -49.29300574,  30.23931046, -83.58348244,\n",
       "       -34.72988102,  55.94099928, -44.39284887,  -6.63197949,\n",
       "       -26.10075709, -89.63950355])"
      ]
     },
     "execution_count": 22,
     "metadata": {},
     "output_type": "execute_result"
    }
   ],
   "source": [
    "np.random.uniform(-90.000, 90.000, size=50)"
   ]
  },
  {
   "cell_type": "code",
   "execution_count": 24,
   "id": "1cecc7a2",
   "metadata": {},
   "outputs": [
    {
     "name": "stdout",
     "output_type": "stream",
     "text": [
      "12.9 µs ± 124 ns per loop (mean ± std. dev. of 7 runs, 100000 loops each)\n"
     ]
    }
   ],
   "source": [
    "%timeit np.random.uniform(-90.000, 90.000, size=1500)"
   ]
  },
  {
   "cell_type": "code",
   "execution_count": 25,
   "id": "914a7656",
   "metadata": {},
   "outputs": [
    {
     "name": "stdout",
     "output_type": "stream",
     "text": [
      "1.54 ms ± 12.8 µs per loop (mean ± std. dev. of 7 runs, 1000 loops each)\n"
     ]
    }
   ],
   "source": [
    "def latitudes(size):\n",
    "    latitudes = []\n",
    "    x = 0\n",
    "    while x < (size):\n",
    "        random_lat = random.randint(-90, 90) + random.random()\n",
    "        latitudes.append(random_lat)\n",
    "        x += 1\n",
    "    return latitudes\n",
    "# Call the function with 1500.\n",
    "%timeit latitudes(1500)"
   ]
  },
  {
   "cell_type": "code",
   "execution_count": 32,
   "id": "dacea74b",
   "metadata": {},
   "outputs": [
    {
     "name": "stdout",
     "output_type": "stream",
     "text": [
      "108 ns ± 0.18 ns per loop (mean ± std. dev. of 7 runs, 10000000 loops each)\n"
     ]
    }
   ],
   "source": [
    "def longitudes(size):\n",
    "    longitudes = []\n",
    "    for longitude in longitudes:\n",
    "        random_long = random.randint(-90,90) + random.random()\n",
    "        longitudes.append(random_long) \n",
    "%timeit longitudes(1500)"
   ]
  },
  {
   "cell_type": "code",
   "execution_count": null,
   "id": "d5275fbe",
   "metadata": {},
   "outputs": [],
   "source": []
  }
 ],
 "metadata": {
  "kernelspec": {
   "display_name": "PythonData",
   "language": "python",
   "name": "pythondata"
  },
  "language_info": {
   "codemirror_mode": {
    "name": "ipython",
    "version": 3
   },
   "file_extension": ".py",
   "mimetype": "text/x-python",
   "name": "python",
   "nbconvert_exporter": "python",
   "pygments_lexer": "ipython3",
   "version": "3.7.10"
  }
 },
 "nbformat": 4,
 "nbformat_minor": 5
}
